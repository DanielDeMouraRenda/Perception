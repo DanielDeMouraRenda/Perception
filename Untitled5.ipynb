{
  "nbformat": 4,
  "nbformat_minor": 0,
  "metadata": {
    "colab": {
      "provenance": [],
      "authorship_tag": "ABX9TyMvj3GXQMSFGVcaYkA6reZ6",
      "include_colab_link": true
    },
    "kernelspec": {
      "name": "python3",
      "display_name": "Python 3"
    },
    "language_info": {
      "name": "python"
    }
  },
  "cells": [
    {
      "cell_type": "markdown",
      "metadata": {
        "id": "view-in-github",
        "colab_type": "text"
      },
      "source": [
        "<a href=\"https://colab.research.google.com/github/DanielDeMouraRenda/Perception/blob/main/Untitled5.ipynb\" target=\"_parent\"><img src=\"https://colab.research.google.com/assets/colab-badge.svg\" alt=\"Open In Colab\"/></a>"
      ]
    },
    {
      "cell_type": "code",
      "execution_count": null,
      "metadata": {
        "id": "YBdJVYfAnqoo"
      },
      "outputs": [],
      "source": [
        "# Importando biblioteca\n",
        "from sklearn.linear_model import Perceptron\n",
        "\n",
        "# Dados de entrada\n",
        "X = [[0, 0], [0, 1], [1, 0], [1, 1]]\n",
        "\n",
        "# Saídas desejadas\n",
        "Y = [0, 1, 1, 1]\n",
        "\n",
        "# Criando e treinando o perceptron\n",
        "modelo = Perceptron()\n",
        "modelo.fit(X, Y)\n",
        "\n",
        "# Testando o modelo\n",
        "print(\"Previsões:\")\n",
        "print(\"Chuva\")\n",
        "testes = [[0,0], [0,1], [1,0], [1,1]]\n",
        "for teste in testes:\n",
        "  previsao = modelo.predict([teste])\n",
        "  print(f\"Nuvens: {teste[0]}, Previsão Chuva: {teste[1]} => Levar Guarda-chuva? {'Sim' if previsao[0] == 1 else 'Não'}\")"
      ]
    },
    {
      "cell_type": "code",
      "source": [
        "# Importando biblioteca\n",
        "from sklearn.linear_model import Perceptron\n",
        "\n",
        "# Dados de entrada\n",
        "X = [[0, 0, 0], [0, 1, 0], [1, 0, 0], [1, 1, 0],[0, 0, 1],[0, 1, 1],[1, 0, 1],[1, 1, 1]]\n",
        "\n",
        "# Saídas desejadas\n",
        "Y = [0, 1, 1, 1, 0, 0, 0, 0]\n",
        "\n",
        "# Criando e treinando o perceptron\n",
        "modelo = Perceptron()\n",
        "modelo.fit(X, Y)\n",
        "\n",
        "# Testando o modelo\n",
        "print(\"Previsões:\")\n",
        "print(\"Chuva\")\n",
        "testes = [[0,0,0], [0,1,0], [1,0,0], [1,1,0], [0,0,1], [0,0,1], [0,1,1], [1,0,1], [1,1,1]]\n",
        "for teste in testes:\n",
        "  previsao = modelo.predict([teste])\n",
        "  print(f\"Tempo ensolarado: {teste[0]}, Dia da semana: {teste[1]}, Parque lotado: {teste[2]} => Ir ao Parque? {'Sim' if previsao[0] == 1 else 'Não'}\")"
      ],
      "metadata": {
        "id": "vRc8AlZ_bQgA"
      },
      "execution_count": null,
      "outputs": []
    },
    {
      "cell_type": "code",
      "source": [
        "# Importando biblioteca\n",
        "from sklearn.linear_model import Perceptron\n",
        "\n",
        "# Dados de entrada\n",
        "X = [[0, 1, 1, 1], [1, 0, 1, 1], [1, 1, 0, 1], [0, 0, 1, 0], [1, 1, 1, 1], [0, 1, 0, 0], [1, 0, 0, 1], [0, 0, 0, 1]]\n",
        "\n",
        "# Saídas desejadas\n",
        "Y = [0, 1, 0, 1, 1, 0, 0, 0]\n",
        "\n",
        "# Criando e treinando o perceptron\n",
        "modelo = Perceptron()\n",
        "modelo.fit(X, Y)\n",
        "\n",
        "# Testando o modelo\n",
        "print(\"Previsões:\")\n",
        "print(\"Chuva\")\n",
        "testes = [[0,1,1,1], [1,0,1,1], [1,1,0,1], [0,0,1,0], [1,1,1,1], [0,1,0,0], [1,0,0,1], [0,0,0,1]]\n",
        "for teste in testes:\n",
        "  previsao = modelo.predict([teste])\n",
        "  print(f\"Cansado do trabalho: {teste[0]}, Dispõe de ingredientes em casa: {teste[1]}, Restaurante próximo aberto: {teste[2]}, Dia de pagamento recente: {teste[3]} => Levar Guarda-chuva? {'Sim' if previsao[0] == 1 else 'Não'}\")\n"
      ],
      "metadata": {
        "id": "DW2d4N6Na_qA"
      },
      "execution_count": null,
      "outputs": []
    }
  ]
}