{
  "nbformat": 4,
  "nbformat_minor": 0,
  "metadata": {
    "colab": {
      "provenance": [],
      "authorship_tag": "ABX9TyOPNBshEFEwKxGryQ8MSZF7",
      "include_colab_link": true
    },
    "kernelspec": {
      "name": "python3",
      "display_name": "Python 3"
    },
    "language_info": {
      "name": "python"
    }
  },
  "cells": [
    {
      "cell_type": "markdown",
      "metadata": {
        "id": "view-in-github",
        "colab_type": "text"
      },
      "source": [
        "<a href=\"https://colab.research.google.com/github/DanielDeMouraRenda/Perception/blob/main/Untitled5.ipynb\" target=\"_parent\"><img src=\"https://colab.research.google.com/assets/colab-badge.svg\" alt=\"Open In Colab\"/></a>"
      ]
    },
    {
      "cell_type": "code",
      "execution_count": 15,
      "metadata": {
        "colab": {
          "base_uri": "https://localhost:8080/"
        },
        "id": "YBdJVYfAnqoo",
        "outputId": "8cc0c980-83df-4922-b47c-64aabf0afa4f"
      },
      "outputs": [
        {
          "output_type": "stream",
          "name": "stdout",
          "text": [
            "Previsões:\n",
            "Chuva\n",
            "Nuvens: 0, Previsão Chuva: 0 => Levar Guarda-chuva? Não\n",
            "Nuvens: 0, Previsão Chuva: 1 => Levar Guarda-chuva? Sim\n",
            "Nuvens: 1, Previsão Chuva: 0 => Levar Guarda-chuva? Sim\n",
            "Nuvens: 1, Previsão Chuva: 1 => Levar Guarda-chuva? Sim\n",
            "Parque\n",
            "Dia da semana: 0,  Tempo ensolarado: 0 => Ir ao parque? Não\n",
            "Dia da semana: 0,  Tempo ensolarado: 1 => Ir ao parque? Sim\n",
            "Dia da semana: 1,  Tempo ensolarado: 0 => Ir ao parque? Sim\n",
            "Dia da semana: 1,  Tempo ensolarado: 1 => Ir ao parque? Sim\n",
            "Comida\n",
            "Cansado: 0, Igredientes: 0 => Comer fora? Não\n",
            "Cansado: 0, Igredientes: 1 => Comer fora? Sim\n",
            "Cansado: 1, Igredientes: 0 => Comer fora? Sim\n",
            "Cansado: 1, Igredientes: 1 => Comer fora? Sim\n"
          ]
        }
      ],
      "source": [
        "# Importando biblioteca\n",
        "from sklearn.linear_model import Perceptron\n",
        "\n",
        "# Dados de entrada\n",
        "X = [[0, 0], [0, 1], [1, 0], [1, 1]]\n",
        "\n",
        "# Saídas desejadas\n",
        "Y = [0, 1, 1, 1]\n",
        "\n",
        "# Criando e treinando o perceptron\n",
        "modelo = Perceptron()\n",
        "modelo.fit(X, Y)\n",
        "\n",
        "# Testando o modelo\n",
        "print(\"Previsões:\")\n",
        "print(\"Chuva\")\n",
        "testes = [[0,0], [0,1], [1,0], [1,1]]\n",
        "for teste in testes:\n",
        "  previsao = modelo.predict([teste])\n",
        "  print(f\"Nuvens: {teste[0]}, Previsão Chuva: {teste[1]} => Levar Guarda-chuva? {'Sim' if previsao[0] == 1 else 'Não'}\")\n",
        "print(\"Parque\")\n",
        "testes = [[0,0], [0,1], [1,0], [1,1]]\n",
        "for teste in testes:\n",
        "  previsao = modelo.predict([teste])\n",
        "  print(f\"Dia da semana: {teste[0]},  Tempo ensolarado: {teste[1]} => Ir ao parque? {'Sim' if previsao[0] == 1 else 'Não'}\")\n",
        "print(\"Comida\")\n",
        "testes = [[0,0], [0,1], [1,0], [1,1]]\n",
        "for teste in testes:\n",
        "  previsao = modelo.predict([teste])\n",
        "  print(f\"Cansado: {teste[0]}, Igredientes: {teste[1]} => Comer fora? {'Sim' if previsao[0] == 1 else 'Não'}\")\n",
        "\n",
        "\n",
        "\n",
        "\n"
      ]
    }
  ]
}